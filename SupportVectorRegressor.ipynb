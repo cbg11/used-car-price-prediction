{
 "cells": [
  {
   "cell_type": "code",
   "execution_count": 1,
   "id": "4e2ecf2d",
   "metadata": {},
   "outputs": [
    {
     "name": "stdout",
     "output_type": "stream",
     "text": [
      "WARNING:tensorflow:From C:\\Users\\chala\\anaconda3\\lib\\site-packages\\tensorflow\\python\\compat\\v2_compat.py:111: disable_resource_variables (from tensorflow.python.ops.variable_scope) is deprecated and will be removed in a future version.\n",
      "Instructions for updating:\n",
      "non-resource variables are not supported in the long term\n"
     ]
    }
   ],
   "source": [
    "%matplotlib inline\n",
    "\n",
    "# Imports\n",
    "\n",
    "import numpy as np\n",
    "from matplotlib import pyplot as plt\n",
    "\n",
    "#import tensorflow as tf\n",
    "import tensorflow.compat.v1 as tf \n",
    "tf.disable_v2_behavior() "
   ]
  },
  {
   "cell_type": "code",
   "execution_count": 3,
   "id": "85fc3021",
   "metadata": {},
   "outputs": [],
   "source": [
    "class SVR(object):\n",
    "    def __init__(self, epsilon=0.5):\n",
    "        self.epsilon = epsilon\n",
    "        \n",
    "    def fit(self, X, y, epochs=1000, learning_rate=0.01):\n",
    "        self.sess = tf.Session()\n",
    "        \n",
    "        feature_len = X.shape[-1] if len(X.shape) > 1 else 1\n",
    "        \n",
    "        if len(X.shape) == 1:\n",
    "            X = X.iloc[:].values.reshape(-1,1)\n",
    "        if len(y.shape) == 1:\n",
    "            y = y.iloc[:].values.reshape(-1,1)\n",
    "        \n",
    "        self.X = tf.placeholder(dtype=tf.float32, shape=(None, feature_len))\n",
    "        self.y = tf.placeholder(dtype=tf.float32, shape=(None, 1))\n",
    "        \n",
    "        self.W = tf.Variable(tf.random_normal(shape=(feature_len, 1)))\n",
    "        self.b = tf.Variable(tf.random_normal(shape=(1,)))\n",
    "        \n",
    "        self.y_pred = tf.matmul(self.X, self.W) + self.b\n",
    "        \n",
    "        #self.loss = tf.reduce_mean(tf.square(self.y - self.y_pred))\n",
    "        #self.loss = tf.reduce_mean(tf.cond(self.y_pred - self.y < self.epsilon, lambda: 0, lambda: 1))\n",
    "        \n",
    "        # Second part of following equation, loss is a function of how much the error exceeds a defined value, epsilon\n",
    "        # Error lower than epsilon = no penalty.\n",
    "        self.loss = tf.norm(self.W)/2 + tf.reduce_mean(tf.maximum(0., tf.abs(self.y_pred - self.y) - self.epsilon))\n",
    "#         self.loss = tf.reduce_mean(tf.maximum(0., tf.abs(self.y_pred - self.y) - self.epsilon))\n",
    "        \n",
    "        opt = tf.train.GradientDescentOptimizer(learning_rate=learning_rate)\n",
    "        opt_op = opt.minimize(self.loss)\n",
    "\n",
    "        self.sess.run(tf.global_variables_initializer())\n",
    "        \n",
    "        for i in range(epochs):\n",
    "            loss = self.sess.run(\n",
    "                self.loss, \n",
    "                {\n",
    "                    self.X: X,\n",
    "                    self.y: y\n",
    "                }\n",
    "            )\n",
    "            print(\"{}/{}: loss: {}\".format(i + 1, epochs, loss))\n",
    "            \n",
    "            self.sess.run(\n",
    "                opt_op, \n",
    "                {\n",
    "                    self.X: X,\n",
    "                    self.y: y\n",
    "                }\n",
    "            )\n",
    "            \n",
    "        return self\n",
    "            \n",
    "    def predict(self, X, y=None):\n",
    "        if len(X.shape) == 1:\n",
    "            X = X.iloc[:].values.reshape(-1,1)\n",
    "        y_pred = self.sess.run(\n",
    "            self.y_pred, \n",
    "            {\n",
    "                self.X: X \n",
    "            }\n",
    "        )\n",
    "        return y_pred"
   ]
  },
  {
   "cell_type": "code",
   "execution_count": null,
   "id": "33b7049f",
   "metadata": {},
   "outputs": [],
   "source": []
  }
 ],
 "metadata": {
  "kernelspec": {
   "display_name": "Python 3",
   "language": "python",
   "name": "python3"
  },
  "language_info": {
   "codemirror_mode": {
    "name": "ipython",
    "version": 3
   },
   "file_extension": ".py",
   "mimetype": "text/x-python",
   "name": "python",
   "nbconvert_exporter": "python",
   "pygments_lexer": "ipython3",
   "version": "3.8.8"
  }
 },
 "nbformat": 4,
 "nbformat_minor": 5
}
