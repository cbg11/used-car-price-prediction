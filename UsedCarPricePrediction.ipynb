{
 "cells": [
  {
   "cell_type": "markdown",
   "id": "937b31fd",
   "metadata": {},
   "source": [
    "# Importing libraries"
   ]
  },
  {
   "cell_type": "code",
   "execution_count": 1,
   "id": "2c739a2b",
   "metadata": {},
   "outputs": [],
   "source": [
    "import pandas as pd\n",
    "import matplotlib.pyplot as plt\n",
    "import seaborn as sns\n",
    "from sklearn.model_selection import train_test_split\n",
    "from sklearn.linear_model import LinearRegression\n",
    "from sklearn.metrics import mean_squared_error\n",
    "from sklearn import metrics\n",
    "from tabulate import tabulate\n",
    "import numpy as np"
   ]
  },
  {
   "cell_type": "markdown",
   "id": "1eba8951",
   "metadata": {},
   "source": [
    "## Importing Algorithms from ipynb"
   ]
  },
  {
   "cell_type": "code",
   "execution_count": 2,
   "id": "6ac80747",
   "metadata": {},
   "outputs": [
    {
     "name": "stdout",
     "output_type": "stream",
     "text": [
      "importing Jupyter notebook from Multiple_Linear_Regression.ipynb\n",
      "importing Jupyter notebook from RidgeRegression.ipynb\n",
      "importing Jupyter notebook from SupportVectorRegressor.ipynb\n",
      "WARNING:tensorflow:From C:\\Users\\chala\\anaconda3\\lib\\site-packages\\tensorflow\\python\\compat\\v2_compat.py:111: disable_resource_variables (from tensorflow.python.ops.variable_scope) is deprecated and will be removed in a future version.\n",
      "Instructions for updating:\n",
      "non-resource variables are not supported in the long term\n",
      "importing Jupyter notebook from decisionTree.ipynb\n"
     ]
    }
   ],
   "source": [
    "import import_ipynb\n",
    "import Multiple_Linear_Regression as mlr\n",
    "import RidgeRegression as rr\n",
    "import SupportVectorRegressor as svr\n",
    "import decisionTree as dt"
   ]
  },
  {
   "cell_type": "markdown",
   "id": "2df59406",
   "metadata": {},
   "source": [
    "# Loading the raw data"
   ]
  },
  {
   "cell_type": "code",
   "execution_count": 3,
   "id": "c3515f4b",
   "metadata": {},
   "outputs": [],
   "source": [
    "# loading the data from csv file to pandas dataframe\n",
    "car_dataset = pd.read_csv('car_data.csv')"
   ]
  },
  {
   "cell_type": "code",
   "execution_count": 4,
   "id": "ec020e08",
   "metadata": {},
   "outputs": [
    {
     "data": {
      "text/html": [
       "<div>\n",
       "<style scoped>\n",
       "    .dataframe tbody tr th:only-of-type {\n",
       "        vertical-align: middle;\n",
       "    }\n",
       "\n",
       "    .dataframe tbody tr th {\n",
       "        vertical-align: top;\n",
       "    }\n",
       "\n",
       "    .dataframe thead th {\n",
       "        text-align: right;\n",
       "    }\n",
       "</style>\n",
       "<table border=\"1\" class=\"dataframe\">\n",
       "  <thead>\n",
       "    <tr style=\"text-align: right;\">\n",
       "      <th></th>\n",
       "      <th>Unnamed: 0</th>\n",
       "      <th>Car_Name</th>\n",
       "      <th>Year</th>\n",
       "      <th>Selling_Price</th>\n",
       "      <th>Present_Price</th>\n",
       "      <th>Kms_Driven</th>\n",
       "      <th>Fuel_Type</th>\n",
       "      <th>Seller_Type</th>\n",
       "      <th>Transmission</th>\n",
       "      <th>Owner</th>\n",
       "    </tr>\n",
       "  </thead>\n",
       "  <tbody>\n",
       "    <tr>\n",
       "      <th>0</th>\n",
       "      <td>0</td>\n",
       "      <td>ritz</td>\n",
       "      <td>2015</td>\n",
       "      <td>3.35</td>\n",
       "      <td>5.59</td>\n",
       "      <td>27000</td>\n",
       "      <td>Petrol</td>\n",
       "      <td>Dealer</td>\n",
       "      <td>Manual</td>\n",
       "      <td>0</td>\n",
       "    </tr>\n",
       "    <tr>\n",
       "      <th>1</th>\n",
       "      <td>1</td>\n",
       "      <td>sx4</td>\n",
       "      <td>2014</td>\n",
       "      <td>4.75</td>\n",
       "      <td>9.54</td>\n",
       "      <td>43000</td>\n",
       "      <td>Diesel</td>\n",
       "      <td>Dealer</td>\n",
       "      <td>Manual</td>\n",
       "      <td>0</td>\n",
       "    </tr>\n",
       "    <tr>\n",
       "      <th>2</th>\n",
       "      <td>2</td>\n",
       "      <td>ciaz</td>\n",
       "      <td>2018</td>\n",
       "      <td>7.25</td>\n",
       "      <td>9.85</td>\n",
       "      <td>6900</td>\n",
       "      <td>Petrol</td>\n",
       "      <td>Dealer</td>\n",
       "      <td>Manual</td>\n",
       "      <td>0</td>\n",
       "    </tr>\n",
       "    <tr>\n",
       "      <th>3</th>\n",
       "      <td>3</td>\n",
       "      <td>wagon r</td>\n",
       "      <td>2012</td>\n",
       "      <td>2.85</td>\n",
       "      <td>4.15</td>\n",
       "      <td>5200</td>\n",
       "      <td>Petrol</td>\n",
       "      <td>Dealer</td>\n",
       "      <td>Manual</td>\n",
       "      <td>0</td>\n",
       "    </tr>\n",
       "    <tr>\n",
       "      <th>4</th>\n",
       "      <td>4</td>\n",
       "      <td>swift</td>\n",
       "      <td>2015</td>\n",
       "      <td>4.60</td>\n",
       "      <td>6.87</td>\n",
       "      <td>42450</td>\n",
       "      <td>Diesel</td>\n",
       "      <td>Dealer</td>\n",
       "      <td>Manual</td>\n",
       "      <td>0</td>\n",
       "    </tr>\n",
       "    <tr>\n",
       "      <th>5</th>\n",
       "      <td>5</td>\n",
       "      <td>vitara brezza</td>\n",
       "      <td>2019</td>\n",
       "      <td>9.25</td>\n",
       "      <td>9.83</td>\n",
       "      <td>2071</td>\n",
       "      <td>Diesel</td>\n",
       "      <td>Dealer</td>\n",
       "      <td>Manual</td>\n",
       "      <td>0</td>\n",
       "    </tr>\n",
       "    <tr>\n",
       "      <th>6</th>\n",
       "      <td>6</td>\n",
       "      <td>ciaz</td>\n",
       "      <td>2016</td>\n",
       "      <td>6.75</td>\n",
       "      <td>8.12</td>\n",
       "      <td>18796</td>\n",
       "      <td>Petrol</td>\n",
       "      <td>Dealer</td>\n",
       "      <td>Manual</td>\n",
       "      <td>0</td>\n",
       "    </tr>\n",
       "    <tr>\n",
       "      <th>7</th>\n",
       "      <td>7</td>\n",
       "      <td>s cross</td>\n",
       "      <td>2016</td>\n",
       "      <td>6.50</td>\n",
       "      <td>8.61</td>\n",
       "      <td>33429</td>\n",
       "      <td>Diesel</td>\n",
       "      <td>Dealer</td>\n",
       "      <td>Manual</td>\n",
       "      <td>0</td>\n",
       "    </tr>\n",
       "    <tr>\n",
       "      <th>8</th>\n",
       "      <td>8</td>\n",
       "      <td>ciaz</td>\n",
       "      <td>2017</td>\n",
       "      <td>8.75</td>\n",
       "      <td>8.89</td>\n",
       "      <td>20273</td>\n",
       "      <td>Diesel</td>\n",
       "      <td>Dealer</td>\n",
       "      <td>Manual</td>\n",
       "      <td>0</td>\n",
       "    </tr>\n",
       "    <tr>\n",
       "      <th>9</th>\n",
       "      <td>9</td>\n",
       "      <td>ciaz</td>\n",
       "      <td>2016</td>\n",
       "      <td>7.45</td>\n",
       "      <td>8.92</td>\n",
       "      <td>42367</td>\n",
       "      <td>Diesel</td>\n",
       "      <td>Dealer</td>\n",
       "      <td>Manual</td>\n",
       "      <td>0</td>\n",
       "    </tr>\n",
       "  </tbody>\n",
       "</table>\n",
       "</div>"
      ],
      "text/plain": [
       "   Unnamed: 0       Car_Name  Year  Selling_Price  Present_Price  Kms_Driven  \\\n",
       "0           0           ritz  2015           3.35           5.59       27000   \n",
       "1           1            sx4  2014           4.75           9.54       43000   \n",
       "2           2           ciaz  2018           7.25           9.85        6900   \n",
       "3           3        wagon r  2012           2.85           4.15        5200   \n",
       "4           4          swift  2015           4.60           6.87       42450   \n",
       "5           5  vitara brezza  2019           9.25           9.83        2071   \n",
       "6           6           ciaz  2016           6.75           8.12       18796   \n",
       "7           7        s cross  2016           6.50           8.61       33429   \n",
       "8           8           ciaz  2017           8.75           8.89       20273   \n",
       "9           9           ciaz  2016           7.45           8.92       42367   \n",
       "\n",
       "  Fuel_Type Seller_Type Transmission  Owner  \n",
       "0    Petrol      Dealer       Manual      0  \n",
       "1    Diesel      Dealer       Manual      0  \n",
       "2    Petrol      Dealer       Manual      0  \n",
       "3    Petrol      Dealer       Manual      0  \n",
       "4    Diesel      Dealer       Manual      0  \n",
       "5    Diesel      Dealer       Manual      0  \n",
       "6    Petrol      Dealer       Manual      0  \n",
       "7    Diesel      Dealer       Manual      0  \n",
       "8    Diesel      Dealer       Manual      0  \n",
       "9    Diesel      Dealer       Manual      0  "
      ]
     },
     "execution_count": 4,
     "metadata": {},
     "output_type": "execute_result"
    }
   ],
   "source": [
    "car_dataset.head(10)"
   ]
  },
  {
   "cell_type": "markdown",
   "id": "399b7995",
   "metadata": {},
   "source": [
    "# Preprocessing"
   ]
  },
  {
   "cell_type": "code",
   "execution_count": 5,
   "id": "fd9eecbd",
   "metadata": {},
   "outputs": [
    {
     "data": {
      "text/plain": [
       "(301, 10)"
      ]
     },
     "execution_count": 5,
     "metadata": {},
     "output_type": "execute_result"
    }
   ],
   "source": [
    "car_dataset.shape"
   ]
  },
  {
   "cell_type": "code",
   "execution_count": 6,
   "id": "4fae7358",
   "metadata": {},
   "outputs": [
    {
     "name": "stdout",
     "output_type": "stream",
     "text": [
      "<class 'pandas.core.frame.DataFrame'>\n",
      "RangeIndex: 301 entries, 0 to 300\n",
      "Data columns (total 10 columns):\n",
      " #   Column         Non-Null Count  Dtype  \n",
      "---  ------         --------------  -----  \n",
      " 0   Unnamed: 0     301 non-null    int64  \n",
      " 1   Car_Name       301 non-null    object \n",
      " 2   Year           301 non-null    int64  \n",
      " 3   Selling_Price  301 non-null    float64\n",
      " 4   Present_Price  301 non-null    float64\n",
      " 5   Kms_Driven     301 non-null    int64  \n",
      " 6   Fuel_Type      301 non-null    object \n",
      " 7   Seller_Type    301 non-null    object \n",
      " 8   Transmission   301 non-null    object \n",
      " 9   Owner          301 non-null    int64  \n",
      "dtypes: float64(2), int64(4), object(4)\n",
      "memory usage: 23.6+ KB\n"
     ]
    }
   ],
   "source": [
    "car_dataset.info()"
   ]
  },
  {
   "cell_type": "code",
   "execution_count": 7,
   "id": "206ccd4d",
   "metadata": {},
   "outputs": [
    {
     "data": {
      "text/html": [
       "<div>\n",
       "<style scoped>\n",
       "    .dataframe tbody tr th:only-of-type {\n",
       "        vertical-align: middle;\n",
       "    }\n",
       "\n",
       "    .dataframe tbody tr th {\n",
       "        vertical-align: top;\n",
       "    }\n",
       "\n",
       "    .dataframe thead th {\n",
       "        text-align: right;\n",
       "    }\n",
       "</style>\n",
       "<table border=\"1\" class=\"dataframe\">\n",
       "  <thead>\n",
       "    <tr style=\"text-align: right;\">\n",
       "      <th></th>\n",
       "      <th>Unnamed: 0</th>\n",
       "      <th>Year</th>\n",
       "      <th>Selling_Price</th>\n",
       "      <th>Present_Price</th>\n",
       "      <th>Kms_Driven</th>\n",
       "      <th>Owner</th>\n",
       "    </tr>\n",
       "  </thead>\n",
       "  <tbody>\n",
       "    <tr>\n",
       "      <th>count</th>\n",
       "      <td>301.000000</td>\n",
       "      <td>301.000000</td>\n",
       "      <td>301.000000</td>\n",
       "      <td>301.000000</td>\n",
       "      <td>301.000000</td>\n",
       "      <td>301.000000</td>\n",
       "    </tr>\n",
       "    <tr>\n",
       "      <th>mean</th>\n",
       "      <td>150.000000</td>\n",
       "      <td>2014.627907</td>\n",
       "      <td>4.661296</td>\n",
       "      <td>7.628472</td>\n",
       "      <td>36947.205980</td>\n",
       "      <td>0.043189</td>\n",
       "    </tr>\n",
       "    <tr>\n",
       "      <th>std</th>\n",
       "      <td>87.035433</td>\n",
       "      <td>2.891554</td>\n",
       "      <td>5.082812</td>\n",
       "      <td>8.644115</td>\n",
       "      <td>38886.883882</td>\n",
       "      <td>0.247915</td>\n",
       "    </tr>\n",
       "    <tr>\n",
       "      <th>min</th>\n",
       "      <td>0.000000</td>\n",
       "      <td>2004.000000</td>\n",
       "      <td>0.100000</td>\n",
       "      <td>0.320000</td>\n",
       "      <td>500.000000</td>\n",
       "      <td>0.000000</td>\n",
       "    </tr>\n",
       "    <tr>\n",
       "      <th>25%</th>\n",
       "      <td>75.000000</td>\n",
       "      <td>2013.000000</td>\n",
       "      <td>0.900000</td>\n",
       "      <td>1.200000</td>\n",
       "      <td>15000.000000</td>\n",
       "      <td>0.000000</td>\n",
       "    </tr>\n",
       "    <tr>\n",
       "      <th>50%</th>\n",
       "      <td>150.000000</td>\n",
       "      <td>2015.000000</td>\n",
       "      <td>3.600000</td>\n",
       "      <td>6.400000</td>\n",
       "      <td>32000.000000</td>\n",
       "      <td>0.000000</td>\n",
       "    </tr>\n",
       "    <tr>\n",
       "      <th>75%</th>\n",
       "      <td>225.000000</td>\n",
       "      <td>2017.000000</td>\n",
       "      <td>6.000000</td>\n",
       "      <td>9.900000</td>\n",
       "      <td>48767.000000</td>\n",
       "      <td>0.000000</td>\n",
       "    </tr>\n",
       "    <tr>\n",
       "      <th>max</th>\n",
       "      <td>300.000000</td>\n",
       "      <td>2019.000000</td>\n",
       "      <td>35.000000</td>\n",
       "      <td>92.600000</td>\n",
       "      <td>500000.000000</td>\n",
       "      <td>3.000000</td>\n",
       "    </tr>\n",
       "  </tbody>\n",
       "</table>\n",
       "</div>"
      ],
      "text/plain": [
       "       Unnamed: 0         Year  Selling_Price  Present_Price     Kms_Driven  \\\n",
       "count  301.000000   301.000000     301.000000     301.000000     301.000000   \n",
       "mean   150.000000  2014.627907       4.661296       7.628472   36947.205980   \n",
       "std     87.035433     2.891554       5.082812       8.644115   38886.883882   \n",
       "min      0.000000  2004.000000       0.100000       0.320000     500.000000   \n",
       "25%     75.000000  2013.000000       0.900000       1.200000   15000.000000   \n",
       "50%    150.000000  2015.000000       3.600000       6.400000   32000.000000   \n",
       "75%    225.000000  2017.000000       6.000000       9.900000   48767.000000   \n",
       "max    300.000000  2019.000000      35.000000      92.600000  500000.000000   \n",
       "\n",
       "            Owner  \n",
       "count  301.000000  \n",
       "mean     0.043189  \n",
       "std      0.247915  \n",
       "min      0.000000  \n",
       "25%      0.000000  \n",
       "50%      0.000000  \n",
       "75%      0.000000  \n",
       "max      3.000000  "
      ]
     },
     "execution_count": 7,
     "metadata": {},
     "output_type": "execute_result"
    }
   ],
   "source": [
    "#Exploring the descriptive statistics of the variables\n",
    "car_dataset.describe()"
   ]
  },
  {
   "cell_type": "code",
   "execution_count": 8,
   "id": "25218cb3",
   "metadata": {
    "scrolled": false
   },
   "outputs": [
    {
     "data": {
      "text/plain": [
       "Unnamed: 0       0\n",
       "Car_Name         0\n",
       "Year             0\n",
       "Selling_Price    0\n",
       "Present_Price    0\n",
       "Kms_Driven       0\n",
       "Fuel_Type        0\n",
       "Seller_Type      0\n",
       "Transmission     0\n",
       "Owner            0\n",
       "dtype: int64"
      ]
     },
     "execution_count": 8,
     "metadata": {},
     "output_type": "execute_result"
    }
   ],
   "source": [
    "#Check for any missing value in data set and treat it\n",
    "car_dataset.isnull().sum()"
   ]
  },
  {
   "cell_type": "code",
   "execution_count": 9,
   "id": "b4e18ea9",
   "metadata": {
    "scrolled": true
   },
   "outputs": [
    {
     "name": "stdout",
     "output_type": "stream",
     "text": [
      "Skewness: 2.493422\n",
      "Kurtosis: 8.902970\n"
     ]
    }
   ],
   "source": [
    "#skewness and kurtosis\n",
    "print(\"Skewness: %f\" % car_dataset['Selling_Price'].skew())\n",
    "print(\"Kurtosis: %f\" % car_dataset['Selling_Price'].kurt())"
   ]
  },
  {
   "cell_type": "markdown",
   "id": "8acfec08",
   "metadata": {},
   "source": [
    "# Feature Extraction"
   ]
  },
  {
   "cell_type": "code",
   "execution_count": 10,
   "id": "1484bbda",
   "metadata": {},
   "outputs": [],
   "source": [
    "# Creating a new feature called total no. of years old my car,bcz It's important to know how many years old the car is.\n",
    "car_dataset['Car_age'] = 2021-car_dataset['Year']\n",
    "\n",
    "#It's time to drop the Year column after the needed info is derived.\n",
    "car_dataset.drop(labels='Year',axis=1,inplace=True)"
   ]
  },
  {
   "cell_type": "code",
   "execution_count": 11,
   "id": "2cdc52df",
   "metadata": {},
   "outputs": [
    {
     "data": {
      "text/html": [
       "<div>\n",
       "<style scoped>\n",
       "    .dataframe tbody tr th:only-of-type {\n",
       "        vertical-align: middle;\n",
       "    }\n",
       "\n",
       "    .dataframe tbody tr th {\n",
       "        vertical-align: top;\n",
       "    }\n",
       "\n",
       "    .dataframe thead th {\n",
       "        text-align: right;\n",
       "    }\n",
       "</style>\n",
       "<table border=\"1\" class=\"dataframe\">\n",
       "  <thead>\n",
       "    <tr style=\"text-align: right;\">\n",
       "      <th></th>\n",
       "      <th>Unnamed: 0</th>\n",
       "      <th>Car_Name</th>\n",
       "      <th>Selling_Price</th>\n",
       "      <th>Present_Price</th>\n",
       "      <th>Kms_Driven</th>\n",
       "      <th>Fuel_Type</th>\n",
       "      <th>Seller_Type</th>\n",
       "      <th>Transmission</th>\n",
       "      <th>Owner</th>\n",
       "      <th>Car_age</th>\n",
       "    </tr>\n",
       "  </thead>\n",
       "  <tbody>\n",
       "    <tr>\n",
       "      <th>0</th>\n",
       "      <td>0</td>\n",
       "      <td>ritz</td>\n",
       "      <td>3.35</td>\n",
       "      <td>5.59</td>\n",
       "      <td>27000</td>\n",
       "      <td>Petrol</td>\n",
       "      <td>Dealer</td>\n",
       "      <td>Manual</td>\n",
       "      <td>0</td>\n",
       "      <td>6</td>\n",
       "    </tr>\n",
       "    <tr>\n",
       "      <th>1</th>\n",
       "      <td>1</td>\n",
       "      <td>sx4</td>\n",
       "      <td>4.75</td>\n",
       "      <td>9.54</td>\n",
       "      <td>43000</td>\n",
       "      <td>Diesel</td>\n",
       "      <td>Dealer</td>\n",
       "      <td>Manual</td>\n",
       "      <td>0</td>\n",
       "      <td>7</td>\n",
       "    </tr>\n",
       "    <tr>\n",
       "      <th>2</th>\n",
       "      <td>2</td>\n",
       "      <td>ciaz</td>\n",
       "      <td>7.25</td>\n",
       "      <td>9.85</td>\n",
       "      <td>6900</td>\n",
       "      <td>Petrol</td>\n",
       "      <td>Dealer</td>\n",
       "      <td>Manual</td>\n",
       "      <td>0</td>\n",
       "      <td>3</td>\n",
       "    </tr>\n",
       "    <tr>\n",
       "      <th>3</th>\n",
       "      <td>3</td>\n",
       "      <td>wagon r</td>\n",
       "      <td>2.85</td>\n",
       "      <td>4.15</td>\n",
       "      <td>5200</td>\n",
       "      <td>Petrol</td>\n",
       "      <td>Dealer</td>\n",
       "      <td>Manual</td>\n",
       "      <td>0</td>\n",
       "      <td>9</td>\n",
       "    </tr>\n",
       "    <tr>\n",
       "      <th>4</th>\n",
       "      <td>4</td>\n",
       "      <td>swift</td>\n",
       "      <td>4.60</td>\n",
       "      <td>6.87</td>\n",
       "      <td>42450</td>\n",
       "      <td>Diesel</td>\n",
       "      <td>Dealer</td>\n",
       "      <td>Manual</td>\n",
       "      <td>0</td>\n",
       "      <td>6</td>\n",
       "    </tr>\n",
       "    <tr>\n",
       "      <th>5</th>\n",
       "      <td>5</td>\n",
       "      <td>vitara brezza</td>\n",
       "      <td>9.25</td>\n",
       "      <td>9.83</td>\n",
       "      <td>2071</td>\n",
       "      <td>Diesel</td>\n",
       "      <td>Dealer</td>\n",
       "      <td>Manual</td>\n",
       "      <td>0</td>\n",
       "      <td>2</td>\n",
       "    </tr>\n",
       "    <tr>\n",
       "      <th>6</th>\n",
       "      <td>6</td>\n",
       "      <td>ciaz</td>\n",
       "      <td>6.75</td>\n",
       "      <td>8.12</td>\n",
       "      <td>18796</td>\n",
       "      <td>Petrol</td>\n",
       "      <td>Dealer</td>\n",
       "      <td>Manual</td>\n",
       "      <td>0</td>\n",
       "      <td>5</td>\n",
       "    </tr>\n",
       "    <tr>\n",
       "      <th>7</th>\n",
       "      <td>7</td>\n",
       "      <td>s cross</td>\n",
       "      <td>6.50</td>\n",
       "      <td>8.61</td>\n",
       "      <td>33429</td>\n",
       "      <td>Diesel</td>\n",
       "      <td>Dealer</td>\n",
       "      <td>Manual</td>\n",
       "      <td>0</td>\n",
       "      <td>5</td>\n",
       "    </tr>\n",
       "    <tr>\n",
       "      <th>8</th>\n",
       "      <td>8</td>\n",
       "      <td>ciaz</td>\n",
       "      <td>8.75</td>\n",
       "      <td>8.89</td>\n",
       "      <td>20273</td>\n",
       "      <td>Diesel</td>\n",
       "      <td>Dealer</td>\n",
       "      <td>Manual</td>\n",
       "      <td>0</td>\n",
       "      <td>4</td>\n",
       "    </tr>\n",
       "    <tr>\n",
       "      <th>9</th>\n",
       "      <td>9</td>\n",
       "      <td>ciaz</td>\n",
       "      <td>7.45</td>\n",
       "      <td>8.92</td>\n",
       "      <td>42367</td>\n",
       "      <td>Diesel</td>\n",
       "      <td>Dealer</td>\n",
       "      <td>Manual</td>\n",
       "      <td>0</td>\n",
       "      <td>5</td>\n",
       "    </tr>\n",
       "  </tbody>\n",
       "</table>\n",
       "</div>"
      ],
      "text/plain": [
       "   Unnamed: 0       Car_Name  Selling_Price  Present_Price  Kms_Driven  \\\n",
       "0           0           ritz           3.35           5.59       27000   \n",
       "1           1            sx4           4.75           9.54       43000   \n",
       "2           2           ciaz           7.25           9.85        6900   \n",
       "3           3        wagon r           2.85           4.15        5200   \n",
       "4           4          swift           4.60           6.87       42450   \n",
       "5           5  vitara brezza           9.25           9.83        2071   \n",
       "6           6           ciaz           6.75           8.12       18796   \n",
       "7           7        s cross           6.50           8.61       33429   \n",
       "8           8           ciaz           8.75           8.89       20273   \n",
       "9           9           ciaz           7.45           8.92       42367   \n",
       "\n",
       "  Fuel_Type Seller_Type Transmission  Owner  Car_age  \n",
       "0    Petrol      Dealer       Manual      0        6  \n",
       "1    Diesel      Dealer       Manual      0        7  \n",
       "2    Petrol      Dealer       Manual      0        3  \n",
       "3    Petrol      Dealer       Manual      0        9  \n",
       "4    Diesel      Dealer       Manual      0        6  \n",
       "5    Diesel      Dealer       Manual      0        2  \n",
       "6    Petrol      Dealer       Manual      0        5  \n",
       "7    Diesel      Dealer       Manual      0        5  \n",
       "8    Diesel      Dealer       Manual      0        4  \n",
       "9    Diesel      Dealer       Manual      0        5  "
      ]
     },
     "execution_count": 11,
     "metadata": {},
     "output_type": "execute_result"
    }
   ],
   "source": [
    "car_dataset.head(10)"
   ]
  },
  {
   "cell_type": "markdown",
   "id": "17f8521f",
   "metadata": {},
   "source": [
    "# Data exploration"
   ]
  },
  {
   "cell_type": "code",
   "execution_count": 12,
   "id": "d35e3a2d",
   "metadata": {},
   "outputs": [
    {
     "name": "stderr",
     "output_type": "stream",
     "text": [
      "C:\\Users\\chala\\anaconda3\\lib\\site-packages\\seaborn\\_decorators.py:36: FutureWarning: Pass the following variables as keyword args: x, y. From version 0.12, the only valid positional argument will be `data`, and passing other arguments without an explicit keyword will result in an error or misinterpretation.\n",
      "  warnings.warn(\n",
      "C:\\Users\\chala\\anaconda3\\lib\\site-packages\\seaborn\\_decorators.py:36: FutureWarning: Pass the following variables as keyword args: x, y. From version 0.12, the only valid positional argument will be `data`, and passing other arguments without an explicit keyword will result in an error or misinterpretation.\n",
      "  warnings.warn(\n",
      "C:\\Users\\chala\\anaconda3\\lib\\site-packages\\seaborn\\_decorators.py:36: FutureWarning: Pass the following variables as keyword args: x, y. From version 0.12, the only valid positional argument will be `data`, and passing other arguments without an explicit keyword will result in an error or misinterpretation.\n",
      "  warnings.warn(\n"
     ]
    },
    {
     "data": {
      "image/png": "[encoded data removed]",
      "text/plain": [
       "<Figure size 1224x360 with 3 Axes>"
      ]
     },
     "metadata": {
      "needs_background": "light"
     },
     "output_type": "display_data"
    }
   ],
   "source": [
    "#Seller Type, Transmission nd Fuel Type Visualization with target variable\n",
    "plt.figure(figsize=[17,5])\n",
    "plt.subplot(1,3,1)\n",
    "sns.barplot(car_dataset['Seller_Type'], car_dataset['Selling_Price'])\n",
    "plt.title('Selling Price Vs Seller Type')\n",
    "\n",
    "plt.subplot(1,3,2)\n",
    "sns.barplot(car_dataset['Transmission'],car_dataset['Selling_Price'])\n",
    "plt.title('Selling Price Vs Transmission')\n",
    "\n",
    "plt.subplot(1,3,3)\n",
    "sns.barplot(car_dataset['Fuel_Type'],car_dataset['Selling_Price'])\n",
    "plt.title('Selling Price Vs Fuel Type')\n",
    "\n",
    "plt.show()"
   ]
  },
  {
   "cell_type": "code",
   "execution_count": 13,
   "id": "43fffd11",
   "metadata": {},
   "outputs": [
    {
     "name": "stderr",
     "output_type": "stream",
     "text": [
      "C:\\Users\\chala\\anaconda3\\lib\\site-packages\\seaborn\\_decorators.py:36: FutureWarning: Pass the following variables as keyword args: x, y. From version 0.12, the only valid positional argument will be `data`, and passing other arguments without an explicit keyword will result in an error or misinterpretation.\n",
      "  warnings.warn(\n",
      "C:\\Users\\chala\\anaconda3\\lib\\site-packages\\seaborn\\_decorators.py:36: FutureWarning: Pass the following variables as keyword args: x, y. From version 0.12, the only valid positional argument will be `data`, and passing other arguments without an explicit keyword will result in an error or misinterpretation.\n",
      "  warnings.warn(\n",
      "C:\\Users\\chala\\anaconda3\\lib\\site-packages\\seaborn\\_decorators.py:36: FutureWarning: Pass the following variables as keyword args: x, y. From version 0.12, the only valid positional argument will be `data`, and passing other arguments without an explicit keyword will result in an error or misinterpretation.\n",
      "  warnings.warn(\n"
     ]
    },
    {
     "data": {
      "image/png": "[encoded data removed]",
      "text/plain": [
       "<Figure size 1224x360 with 3 Axes>"
      ]
     },
     "metadata": {
      "needs_background": "light"
     },
     "output_type": "display_data"
    }
   ],
   "source": [
    "plt.figure(figsize=[17,5])\n",
    "plt.subplot(1,3,1)\n",
    "sns.barplot(car_dataset['Owner'],car_dataset['Selling_Price'])\n",
    "\n",
    "plt.subplot(1,3,2)\n",
    "sns.barplot(car_dataset['Car_age'],car_dataset['Selling_Price'])\n",
    "\n",
    "plt.subplot(1,3,3)\n",
    "sns.regplot(car_dataset['Selling_Price'],car_dataset['Kms_Driven'])\n",
    "plt.show()"
   ]
  },
  {
   "cell_type": "code",
   "execution_count": 14,
   "id": "ee16278e",
   "metadata": {
    "scrolled": true
   },
   "outputs": [
    {
     "name": "stderr",
     "output_type": "stream",
     "text": [
      "C:\\Users\\chala\\anaconda3\\lib\\site-packages\\seaborn\\distributions.py:2557: FutureWarning: `distplot` is a deprecated function and will be removed in a future version. Please adapt your code to use either `displot` (a figure-level function with similar flexibility) or `histplot` (an axes-level function for histograms).\n",
      "  warnings.warn(msg, FutureWarning)\n"
     ]
    },
    {
     "data": {
      "image/png": "[encoded data removed]",
      "text/plain": [
       "<Figure size 432x288 with 1 Axes>"
      ]
     },
     "metadata": {
      "needs_background": "light"
     },
     "output_type": "display_data"
    },
    {
     "data": {
      "image/png": "[encoded data removed]",
      "text/plain": [
       "<Figure size 432x288 with 1 Axes>"
      ]
     },
     "metadata": {
      "needs_background": "light"
     },
     "output_type": "display_data"
    }
   ],
   "source": [
    "# Distribution of prices\n",
    "from scipy.stats import norm\n",
    "from scipy import stats\n",
    "\n",
    "# Using Histogram and normal probability plot\n",
    "sns.distplot(car_dataset['Selling_Price'], fit=norm);\n",
    "fig = plt.figure()\n",
    "res = stats.probplot(car_dataset['Selling_Price'], plot=plt)"
   ]
  },
  {
   "cell_type": "code",
   "execution_count": 15,
   "id": "e8ad3c28",
   "metadata": {},
   "outputs": [
    {
     "name": "stderr",
     "output_type": "stream",
     "text": [
      "C:\\Users\\chala\\anaconda3\\lib\\site-packages\\seaborn\\distributions.py:2557: FutureWarning: `distplot` is a deprecated function and will be removed in a future version. Please adapt your code to use either `displot` (a figure-level function with similar flexibility) or `histplot` (an axes-level function for histograms).\n",
      "  warnings.warn(msg, FutureWarning)\n"
     ]
    },
    {
     "data": {
      "image/png": "[encoded data removed]",
      "text/plain": [
       "<Figure size 432x288 with 1 Axes>"
      ]
     },
     "metadata": {
      "needs_background": "light"
     },
     "output_type": "display_data"
    },
    {
     "data": {
      "image/png": "[encoded data removed]",
      "text/plain": [
       "<Figure size 432x288 with 1 Axes>"
      ]
     },
     "metadata": {
      "needs_background": "light"
     },
     "output_type": "display_data"
    }
   ],
   "source": [
    "#applying log transformation\n",
    "car_dataset['Selling_Price'] = np.log(car_dataset['Selling_Price'])\n",
    "#transformed histogram and normal probability plot\n",
    "sns.distplot(car_dataset['Selling_Price'], fit=norm);\n",
    "fig = plt.figure()\n",
    "res = stats.probplot(car_dataset['Selling_Price'], plot=plt)"
   ]
  },
  {
   "cell_type": "code",
   "execution_count": 16,
   "id": "c1d7e9ac",
   "metadata": {},
   "outputs": [
    {
     "name": "stdout",
     "output_type": "stream",
     "text": [
      "['Petrol' 'Diesel' 'CNG']\n",
      "['Dealer' 'Individual']\n",
      "['Manual' 'Automatic']\n",
      "['ritz' 'sx4' 'ciaz' 'wagon r' 'swift' 'vitara brezza' 's cross'\n",
      " 'alto 800' 'ertiga' 'dzire' 'alto k10' 'ignis' '800' 'baleno' 'omni'\n",
      " 'fortuner' 'innova' 'corolla altis' 'etios cross' 'etios g' 'etios liva'\n",
      " 'corolla' 'etios gd' 'camry' 'land cruiser' 'Royal Enfield Thunder 500'\n",
      " 'UM Renegade Mojave' 'KTM RC200' 'Bajaj Dominar 400'\n",
      " 'Royal Enfield Classic 350' 'KTM RC390' 'Hyosung GT250R'\n",
      " 'Royal Enfield Thunder 350' 'KTM 390 Duke ' 'Mahindra Mojo XT300'\n",
      " 'Bajaj Pulsar RS200' 'Royal Enfield Bullet 350'\n",
      " 'Royal Enfield Classic 500' 'Bajaj Avenger 220' 'Bajaj Avenger 150'\n",
      " 'Honda CB Hornet 160R' 'Yamaha FZ S V 2.0' 'Yamaha FZ 16'\n",
      " 'TVS Apache RTR 160' 'Bajaj Pulsar 150' 'Honda CBR 150' 'Hero Extreme'\n",
      " 'Bajaj Avenger 220 dtsi' 'Bajaj Avenger 150 street' 'Yamaha FZ  v 2.0'\n",
      " 'Bajaj Pulsar  NS 200' 'Bajaj Pulsar 220 F' 'TVS Apache RTR 180'\n",
      " 'Hero Passion X pro' 'Bajaj Pulsar NS 200' 'Yamaha Fazer '\n",
      " 'Honda Activa 4G' 'TVS Sport ' 'Honda Dream Yuga '\n",
      " 'Bajaj Avenger Street 220' 'Hero Splender iSmart' 'Activa 3g'\n",
      " 'Hero Passion Pro' 'Honda CB Trigger' 'Yamaha FZ S '\n",
      " 'Bajaj Pulsar 135 LS' 'Activa 4g' 'Honda CB Unicorn'\n",
      " 'Hero Honda CBZ extreme' 'Honda Karizma' 'Honda Activa 125' 'TVS Jupyter'\n",
      " 'Hero Honda Passion Pro' 'Hero Splender Plus' 'Honda CB Shine'\n",
      " 'Bajaj Discover 100' 'Suzuki Access 125' 'TVS Wego' 'Honda CB twister'\n",
      " 'Hero Glamour' 'Hero Super Splendor' 'Bajaj Discover 125' 'Hero Hunk'\n",
      " 'Hero  Ignitor Disc' 'Hero  CBZ Xtreme' 'Bajaj  ct 100' 'i20' 'grand i10'\n",
      " 'i10' 'eon' 'xcent' 'elantra' 'creta' 'verna' 'city' 'brio' 'amaze'\n",
      " 'jazz']\n"
     ]
    }
   ],
   "source": [
    "#Dealing with categorical variables\n",
    "# Here's our categorical column\n",
    "print(car_dataset['Fuel_Type'].unique())\n",
    "print(car_dataset['Seller_Type'].unique())\n",
    "print(car_dataset['Transmission'].unique())\n",
    "print(car_dataset['Car_Name'].unique())"
   ]
  },
  {
   "cell_type": "code",
   "execution_count": 17,
   "id": "f50ccdfe",
   "metadata": {},
   "outputs": [],
   "source": [
    "# In Car Name column There are three hundred and twelve unique name. \n",
    "# That's something really hard to implement and a regression that would mean more than 300 dummies, so we simply drop this column\n",
    "car_dataset = car_dataset.drop(labels='Car_Name', axis=1)"
   ]
  },
  {
   "cell_type": "code",
   "execution_count": 18,
   "id": "3a87bdcb",
   "metadata": {},
   "outputs": [
    {
     "data": {
      "text/html": [
       "<div>\n",
       "<style scoped>\n",
       "    .dataframe tbody tr th:only-of-type {\n",
       "        vertical-align: middle;\n",
       "    }\n",
       "\n",
       "    .dataframe tbody tr th {\n",
       "        vertical-align: top;\n",
       "    }\n",
       "\n",
       "    .dataframe thead th {\n",
       "        text-align: right;\n",
       "    }\n",
       "</style>\n",
       "<table border=\"1\" class=\"dataframe\">\n",
       "  <thead>\n",
       "    <tr style=\"text-align: right;\">\n",
       "      <th></th>\n",
       "      <th>Selling_Price</th>\n",
       "      <th>Present_Price</th>\n",
       "      <th>Kms_Driven</th>\n",
       "      <th>Owner</th>\n",
       "      <th>Car_age</th>\n",
       "      <th>Fuel_Type_Diesel</th>\n",
       "      <th>Fuel_Type_Petrol</th>\n",
       "      <th>Seller_Type_Individual</th>\n",
       "      <th>Transmission_Manual</th>\n",
       "    </tr>\n",
       "  </thead>\n",
       "  <tbody>\n",
       "    <tr>\n",
       "      <th>0</th>\n",
       "      <td>1.208960</td>\n",
       "      <td>5.59</td>\n",
       "      <td>27000</td>\n",
       "      <td>0</td>\n",
       "      <td>6</td>\n",
       "      <td>0</td>\n",
       "      <td>1</td>\n",
       "      <td>0</td>\n",
       "      <td>1</td>\n",
       "    </tr>\n",
       "    <tr>\n",
       "      <th>1</th>\n",
       "      <td>1.558145</td>\n",
       "      <td>9.54</td>\n",
       "      <td>43000</td>\n",
       "      <td>0</td>\n",
       "      <td>7</td>\n",
       "      <td>1</td>\n",
       "      <td>0</td>\n",
       "      <td>0</td>\n",
       "      <td>1</td>\n",
       "    </tr>\n",
       "    <tr>\n",
       "      <th>2</th>\n",
       "      <td>1.981001</td>\n",
       "      <td>9.85</td>\n",
       "      <td>6900</td>\n",
       "      <td>0</td>\n",
       "      <td>3</td>\n",
       "      <td>0</td>\n",
       "      <td>1</td>\n",
       "      <td>0</td>\n",
       "      <td>1</td>\n",
       "    </tr>\n",
       "    <tr>\n",
       "      <th>3</th>\n",
       "      <td>1.047319</td>\n",
       "      <td>4.15</td>\n",
       "      <td>5200</td>\n",
       "      <td>0</td>\n",
       "      <td>9</td>\n",
       "      <td>0</td>\n",
       "      <td>1</td>\n",
       "      <td>0</td>\n",
       "      <td>1</td>\n",
       "    </tr>\n",
       "    <tr>\n",
       "      <th>4</th>\n",
       "      <td>1.526056</td>\n",
       "      <td>6.87</td>\n",
       "      <td>42450</td>\n",
       "      <td>0</td>\n",
       "      <td>6</td>\n",
       "      <td>1</td>\n",
       "      <td>0</td>\n",
       "      <td>0</td>\n",
       "      <td>1</td>\n",
       "    </tr>\n",
       "  </tbody>\n",
       "</table>\n",
       "</div>"
      ],
      "text/plain": [
       "   Selling_Price  Present_Price  Kms_Driven  Owner  Car_age  Fuel_Type_Diesel  \\\n",
       "0       1.208960           5.59       27000      0        6                 0   \n",
       "1       1.558145           9.54       43000      0        7                 1   \n",
       "2       1.981001           9.85        6900      0        3                 0   \n",
       "3       1.047319           4.15        5200      0        9                 0   \n",
       "4       1.526056           6.87       42450      0        6                 1   \n",
       "\n",
       "   Fuel_Type_Petrol  Seller_Type_Individual  Transmission_Manual  \n",
       "0                 1                       0                    1  \n",
       "1                 0                       0                    1  \n",
       "2                 1                       0                    1  \n",
       "3                 1                       0                    1  \n",
       "4                 0                       0                    1  "
      ]
     },
     "execution_count": 18,
     "metadata": {},
     "output_type": "execute_result"
    }
   ],
   "source": [
    "# Dealing With Categorical Variables, creagting dummie\n",
    "clean_data = pd.get_dummies(car_dataset,drop_first=True)\n",
    "clean_data = clean_data.drop(labels='Unnamed: 0', axis=1)\n",
    "clean_data.head()"
   ]
  },
  {
   "cell_type": "code",
   "execution_count": 19,
   "id": "b969b233",
   "metadata": {},
   "outputs": [
    {
     "data": {
      "text/html": [
       "<div>\n",
       "<style scoped>\n",
       "    .dataframe tbody tr th:only-of-type {\n",
       "        vertical-align: middle;\n",
       "    }\n",
       "\n",
       "    .dataframe tbody tr th {\n",
       "        vertical-align: top;\n",
       "    }\n",
       "\n",
       "    .dataframe thead th {\n",
       "        text-align: right;\n",
       "    }\n",
       "</style>\n",
       "<table border=\"1\" class=\"dataframe\">\n",
       "  <thead>\n",
       "    <tr style=\"text-align: right;\">\n",
       "      <th></th>\n",
       "      <th>VIF</th>\n",
       "      <th>Features</th>\n",
       "    </tr>\n",
       "  </thead>\n",
       "  <tbody>\n",
       "    <tr>\n",
       "      <th>0</th>\n",
       "      <td>3.201728</td>\n",
       "      <td>Present_Price</td>\n",
       "    </tr>\n",
       "    <tr>\n",
       "      <th>1</th>\n",
       "      <td>2.892026</td>\n",
       "      <td>Kms_Driven</td>\n",
       "    </tr>\n",
       "    <tr>\n",
       "      <th>2</th>\n",
       "      <td>1.087990</td>\n",
       "      <td>Owner</td>\n",
       "    </tr>\n",
       "    <tr>\n",
       "      <th>3</th>\n",
       "      <td>8.540393</td>\n",
       "      <td>Car_age</td>\n",
       "    </tr>\n",
       "    <tr>\n",
       "      <th>4</th>\n",
       "      <td>4.714762</td>\n",
       "      <td>Fuel_Type_Diesel</td>\n",
       "    </tr>\n",
       "    <tr>\n",
       "      <th>5</th>\n",
       "      <td>13.341429</td>\n",
       "      <td>Fuel_Type_Petrol</td>\n",
       "    </tr>\n",
       "    <tr>\n",
       "      <th>6</th>\n",
       "      <td>2.230179</td>\n",
       "      <td>Seller_Type_Individual</td>\n",
       "    </tr>\n",
       "    <tr>\n",
       "      <th>7</th>\n",
       "      <td>8.368965</td>\n",
       "      <td>Transmission_Manual</td>\n",
       "    </tr>\n",
       "  </tbody>\n",
       "</table>\n",
       "</div>"
      ],
      "text/plain": [
       "         VIF                Features\n",
       "0   3.201728           Present_Price\n",
       "1   2.892026              Kms_Driven\n",
       "2   1.087990                   Owner\n",
       "3   8.540393                 Car_age\n",
       "4   4.714762        Fuel_Type_Diesel\n",
       "5  13.341429        Fuel_Type_Petrol\n",
       "6   2.230179  Seller_Type_Individual\n",
       "7   8.368965     Transmission_Manual"
      ]
     },
     "execution_count": 19,
     "metadata": {},
     "output_type": "execute_result"
    }
   ],
   "source": [
    "from statsmodels.stats.outliers_influence import variance_inflation_factor\n",
    "variables = clean_data[['Present_Price','Kms_Driven','Owner','Car_age','Fuel_Type_Diesel',\n",
    "                        'Fuel_Type_Petrol','Seller_Type_Individual','Transmission_Manual']]\n",
    "vif = pd.DataFrame()\n",
    "vif[\"VIF\"] = [variance_inflation_factor(variables.values, i) for i in range(variables.shape[1])]\n",
    "vif[\"Features\"] = variables.columns\n",
    "vif"
   ]
  },
  {
   "cell_type": "code",
   "execution_count": 20,
   "id": "f32543bd",
   "metadata": {},
   "outputs": [],
   "source": [
    "# Car_age nd fuel_type_petrol feature has high VIF\n",
    "data_no_multicolinearity = clean_data.drop(['Kms_Driven','Fuel_Type_Petrol'],axis=1)"
   ]
  },
  {
   "cell_type": "code",
   "execution_count": 21,
   "id": "4625ecfc",
   "metadata": {},
   "outputs": [
    {
     "data": {
      "text/html": [
       "<div>\n",
       "<style scoped>\n",
       "    .dataframe tbody tr th:only-of-type {\n",
       "        vertical-align: middle;\n",
       "    }\n",
       "\n",
       "    .dataframe tbody tr th {\n",
       "        vertical-align: top;\n",
       "    }\n",
       "\n",
       "    .dataframe thead th {\n",
       "        text-align: right;\n",
       "    }\n",
       "</style>\n",
       "<table border=\"1\" class=\"dataframe\">\n",
       "  <thead>\n",
       "    <tr style=\"text-align: right;\">\n",
       "      <th></th>\n",
       "      <th>VIF</th>\n",
       "      <th>Features</th>\n",
       "    </tr>\n",
       "  </thead>\n",
       "  <tbody>\n",
       "    <tr>\n",
       "      <th>0</th>\n",
       "      <td>2.456996</td>\n",
       "      <td>Present_Price</td>\n",
       "    </tr>\n",
       "    <tr>\n",
       "      <th>1</th>\n",
       "      <td>1.084141</td>\n",
       "      <td>Owner</td>\n",
       "    </tr>\n",
       "    <tr>\n",
       "      <th>2</th>\n",
       "      <td>4.810633</td>\n",
       "      <td>Car_age</td>\n",
       "    </tr>\n",
       "    <tr>\n",
       "      <th>3</th>\n",
       "      <td>1.658039</td>\n",
       "      <td>Fuel_Type_Diesel</td>\n",
       "    </tr>\n",
       "    <tr>\n",
       "      <th>4</th>\n",
       "      <td>1.864471</td>\n",
       "      <td>Seller_Type_Individual</td>\n",
       "    </tr>\n",
       "    <tr>\n",
       "      <th>5</th>\n",
       "      <td>3.964982</td>\n",
       "      <td>Transmission_Manual</td>\n",
       "    </tr>\n",
       "  </tbody>\n",
       "</table>\n",
       "</div>"
      ],
      "text/plain": [
       "        VIF                Features\n",
       "0  2.456996           Present_Price\n",
       "1  1.084141                   Owner\n",
       "2  4.810633                 Car_age\n",
       "3  1.658039        Fuel_Type_Diesel\n",
       "4  1.864471  Seller_Type_Individual\n",
       "5  3.964982     Transmission_Manual"
      ]
     },
     "execution_count": 21,
     "metadata": {},
     "output_type": "execute_result"
    }
   ],
   "source": [
    "# cheking again after removing some correlated feature\n",
    "from statsmodels.stats.outliers_influence import variance_inflation_factor\n",
    "variables = clean_data[['Present_Price','Owner','Car_age','Fuel_Type_Diesel',\n",
    "                        'Seller_Type_Individual','Transmission_Manual']]\n",
    "vif = pd.DataFrame()\n",
    "vif[\"VIF\"] = [variance_inflation_factor(variables.values, i) for i in range(variables.shape[1])]\n",
    "vif[\"Features\"] = variables.columns\n",
    "vif"
   ]
  },
  {
   "cell_type": "markdown",
   "id": "80fa35d2",
   "metadata": {},
   "source": [
    "# Feature Selection"
   ]
  },
  {
   "cell_type": "code",
   "execution_count": 22,
   "id": "93259ee1",
   "metadata": {},
   "outputs": [
    {
     "data": {
      "text/plain": [
       "<AxesSubplot:>"
      ]
     },
     "execution_count": 22,
     "metadata": {},
     "output_type": "execute_result"
    },
    {
     "data": {
      "image/png": "[encoded data removed]",
      "text/plain": [
       "<Figure size 1080x504 with 2 Axes>"
      ]
     },
     "metadata": {
      "needs_background": "light"
     },
     "output_type": "display_data"
    }
   ],
   "source": [
    "# correlation heat map\n",
    "plt.figure(figsize=[15,7])\n",
    "sns.heatmap(data_no_multicolinearity.corr(), annot=True)"
   ]
  },
  {
   "cell_type": "code",
   "execution_count": 23,
   "id": "acc93903",
   "metadata": {},
   "outputs": [
    {
     "data": {
      "text/plain": [
       "array([0.   , 0.042, 0.   , 0.   , 0.   , 0.002])"
      ]
     },
     "execution_count": 23,
     "metadata": {},
     "output_type": "execute_result"
    }
   ],
   "source": [
    "#F-regression create simple linear regression of each feature\n",
    "#This method would calculate the F statistic for each of those regressions and return the respective p values\n",
    "from sklearn.feature_selection import f_regression,SelectKBest\n",
    "\n",
    "X = data_no_multicolinearity.drop('Selling_Price',axis=1)\n",
    "y = data_no_multicolinearity['Selling_Price']\n",
    "\n",
    "f_regression(X,y)\n",
    "\n",
    "p_values = f_regression(X,y)[1]\n",
    "\n",
    "p_values.round(3) # This output in scincetific notation array lets convert them using 'round' method"
   ]
  },
  {
   "cell_type": "code",
   "execution_count": 24,
   "id": "7b52b487",
   "metadata": {},
   "outputs": [
    {
     "data": {
      "text/html": [
       "<div>\n",
       "<style scoped>\n",
       "    .dataframe tbody tr th:only-of-type {\n",
       "        vertical-align: middle;\n",
       "    }\n",
       "\n",
       "    .dataframe tbody tr th {\n",
       "        vertical-align: top;\n",
       "    }\n",
       "\n",
       "    .dataframe thead th {\n",
       "        text-align: right;\n",
       "    }\n",
       "</style>\n",
       "<table border=\"1\" class=\"dataframe\">\n",
       "  <thead>\n",
       "    <tr style=\"text-align: right;\">\n",
       "      <th></th>\n",
       "      <th>Features</th>\n",
       "      <th>p-values</th>\n",
       "    </tr>\n",
       "  </thead>\n",
       "  <tbody>\n",
       "    <tr>\n",
       "      <th>0</th>\n",
       "      <td>Present_Price</td>\n",
       "      <td>0.000</td>\n",
       "    </tr>\n",
       "    <tr>\n",
       "      <th>1</th>\n",
       "      <td>Owner</td>\n",
       "      <td>0.042</td>\n",
       "    </tr>\n",
       "    <tr>\n",
       "      <th>2</th>\n",
       "      <td>Car_age</td>\n",
       "      <td>0.000</td>\n",
       "    </tr>\n",
       "    <tr>\n",
       "      <th>3</th>\n",
       "      <td>Fuel_Type_Diesel</td>\n",
       "      <td>0.000</td>\n",
       "    </tr>\n",
       "    <tr>\n",
       "      <th>4</th>\n",
       "      <td>Seller_Type_Individual</td>\n",
       "      <td>0.000</td>\n",
       "    </tr>\n",
       "  </tbody>\n",
       "</table>\n",
       "</div>"
      ],
      "text/plain": [
       "                 Features  p-values\n",
       "0           Present_Price     0.000\n",
       "1                   Owner     0.042\n",
       "2                 Car_age     0.000\n",
       "3        Fuel_Type_Diesel     0.000\n",
       "4  Seller_Type_Individual     0.000"
      ]
     },
     "execution_count": 24,
     "metadata": {},
     "output_type": "execute_result"
    }
   ],
   "source": [
    "# Creating summary table\n",
    "model_summry = pd.DataFrame(data=['Present_Price','Owner','Car_age','Fuel_Type_Diesel',\n",
    "                        'Seller_Type_Individual','Transmission_Manual'], columns=['Features'])\n",
    "model_summry['p-values'] = p_values.round(3)\n",
    "model_summry.head()"
   ]
  },
  {
   "cell_type": "code",
   "execution_count": 25,
   "id": "506ce1e2",
   "metadata": {},
   "outputs": [],
   "source": [
    "# Selecting useful features.\n",
    "final_df = data_no_multicolinearity[['Selling_Price', 'Present_Price', 'Car_age',\n",
    "       'Fuel_Type_Diesel', 'Seller_Type_Individual', 'Transmission_Manual']]"
   ]
  },
  {
   "cell_type": "code",
   "execution_count": 26,
   "id": "bb011be2",
   "metadata": {},
   "outputs": [
    {
     "data": {
      "text/html": [
       "<div>\n",
       "<style scoped>\n",
       "    .dataframe tbody tr th:only-of-type {\n",
       "        vertical-align: middle;\n",
       "    }\n",
       "\n",
       "    .dataframe tbody tr th {\n",
       "        vertical-align: top;\n",
       "    }\n",
       "\n",
       "    .dataframe thead th {\n",
       "        text-align: right;\n",
       "    }\n",
       "</style>\n",
       "<table border=\"1\" class=\"dataframe\">\n",
       "  <thead>\n",
       "    <tr style=\"text-align: right;\">\n",
       "      <th></th>\n",
       "      <th>Selling_Price</th>\n",
       "      <th>Present_Price</th>\n",
       "      <th>Car_age</th>\n",
       "      <th>Fuel_Type_Diesel</th>\n",
       "      <th>Seller_Type_Individual</th>\n",
       "      <th>Transmission_Manual</th>\n",
       "    </tr>\n",
       "  </thead>\n",
       "  <tbody>\n",
       "    <tr>\n",
       "      <th>0</th>\n",
       "      <td>1.208960</td>\n",
       "      <td>5.59</td>\n",
       "      <td>6</td>\n",
       "      <td>0</td>\n",
       "      <td>0</td>\n",
       "      <td>1</td>\n",
       "    </tr>\n",
       "    <tr>\n",
       "      <th>1</th>\n",
       "      <td>1.558145</td>\n",
       "      <td>9.54</td>\n",
       "      <td>7</td>\n",
       "      <td>1</td>\n",
       "      <td>0</td>\n",
       "      <td>1</td>\n",
       "    </tr>\n",
       "    <tr>\n",
       "      <th>2</th>\n",
       "      <td>1.981001</td>\n",
       "      <td>9.85</td>\n",
       "      <td>3</td>\n",
       "      <td>0</td>\n",
       "      <td>0</td>\n",
       "      <td>1</td>\n",
       "    </tr>\n",
       "    <tr>\n",
       "      <th>3</th>\n",
       "      <td>1.047319</td>\n",
       "      <td>4.15</td>\n",
       "      <td>9</td>\n",
       "      <td>0</td>\n",
       "      <td>0</td>\n",
       "      <td>1</td>\n",
       "    </tr>\n",
       "    <tr>\n",
       "      <th>4</th>\n",
       "      <td>1.526056</td>\n",
       "      <td>6.87</td>\n",
       "      <td>6</td>\n",
       "      <td>1</td>\n",
       "      <td>0</td>\n",
       "      <td>1</td>\n",
       "    </tr>\n",
       "    <tr>\n",
       "      <th>5</th>\n",
       "      <td>2.224624</td>\n",
       "      <td>9.83</td>\n",
       "      <td>2</td>\n",
       "      <td>1</td>\n",
       "      <td>0</td>\n",
       "      <td>1</td>\n",
       "    </tr>\n",
       "    <tr>\n",
       "      <th>6</th>\n",
       "      <td>1.909543</td>\n",
       "      <td>8.12</td>\n",
       "      <td>5</td>\n",
       "      <td>0</td>\n",
       "      <td>0</td>\n",
       "      <td>1</td>\n",
       "    </tr>\n",
       "    <tr>\n",
       "      <th>7</th>\n",
       "      <td>1.871802</td>\n",
       "      <td>8.61</td>\n",
       "      <td>5</td>\n",
       "      <td>1</td>\n",
       "      <td>0</td>\n",
       "      <td>1</td>\n",
       "    </tr>\n",
       "    <tr>\n",
       "      <th>8</th>\n",
       "      <td>2.169054</td>\n",
       "      <td>8.89</td>\n",
       "      <td>4</td>\n",
       "      <td>1</td>\n",
       "      <td>0</td>\n",
       "      <td>1</td>\n",
       "    </tr>\n",
       "    <tr>\n",
       "      <th>9</th>\n",
       "      <td>2.008214</td>\n",
       "      <td>8.92</td>\n",
       "      <td>5</td>\n",
       "      <td>1</td>\n",
       "      <td>0</td>\n",
       "      <td>1</td>\n",
       "    </tr>\n",
       "  </tbody>\n",
       "</table>\n",
       "</div>"
      ],
      "text/plain": [
       "   Selling_Price  Present_Price  Car_age  Fuel_Type_Diesel  \\\n",
       "0       1.208960           5.59        6                 0   \n",
       "1       1.558145           9.54        7                 1   \n",
       "2       1.981001           9.85        3                 0   \n",
       "3       1.047319           4.15        9                 0   \n",
       "4       1.526056           6.87        6                 1   \n",
       "5       2.224624           9.83        2                 1   \n",
       "6       1.909543           8.12        5                 0   \n",
       "7       1.871802           8.61        5                 1   \n",
       "8       2.169054           8.89        4                 1   \n",
       "9       2.008214           8.92        5                 1   \n",
       "\n",
       "   Seller_Type_Individual  Transmission_Manual  \n",
       "0                       0                    1  \n",
       "1                       0                    1  \n",
       "2                       0                    1  \n",
       "3                       0                    1  \n",
       "4                       0                    1  \n",
       "5                       0                    1  \n",
       "6                       0                    1  \n",
       "7                       0                    1  \n",
       "8                       0                    1  \n",
       "9                       0                    1  "
      ]
     },
     "execution_count": 26,
     "metadata": {},
     "output_type": "execute_result"
    }
   ],
   "source": [
    "final_df.head(10)"
   ]
  },
  {
   "cell_type": "markdown",
   "id": "ee813768",
   "metadata": {},
   "source": [
    "# Model Development"
   ]
  },
  {
   "cell_type": "code",
   "execution_count": 27,
   "id": "73ab839a",
   "metadata": {},
   "outputs": [],
   "source": [
    "X = final_df.drop('Selling_Price', axis=1)\n",
    "y = final_df['Selling_Price']"
   ]
  },
  {
   "cell_type": "markdown",
   "id": "565319fe",
   "metadata": {},
   "source": [
    "### Feature Scaling"
   ]
  },
  {
   "cell_type": "code",
   "execution_count": 28,
   "id": "b80972dd",
   "metadata": {},
   "outputs": [],
   "source": [
    "# feature scallng on training data\n",
    "from sklearn.preprocessing import StandardScaler\n",
    "scaler = StandardScaler()\n",
    "scaler.fit(X[['Present_Price','Car_age']])\n",
    "\n",
    "input_scaled = scaler.transform(X[['Present_Price','Car_age']])\n",
    "scaled_data = pd.DataFrame(input_scaled, columns=['Present_Price','Car_age'])"
   ]
  },
  {
   "cell_type": "code",
   "execution_count": 29,
   "id": "85ffb93d",
   "metadata": {},
   "outputs": [],
   "source": [
    "X_scaled =scaled_data.join(X.drop(['Present_Price','Car_age'],axis=1))"
   ]
  },
  {
   "cell_type": "markdown",
   "id": "456e1ab4",
   "metadata": {},
   "source": [
    "### Training and Testing Data"
   ]
  },
  {
   "cell_type": "code",
   "execution_count": 30,
   "id": "afba3e55",
   "metadata": {},
   "outputs": [],
   "source": [
    "from sklearn.model_selection import train_test_split\n",
    "x_train,x_test,y_train,y_test = train_test_split(X_scaled,y,test_size=0.2, random_state=365)"
   ]
  },
  {
   "cell_type": "markdown",
   "id": "1e97d36e",
   "metadata": {},
   "source": [
    "## Metrics functions"
   ]
  },
  {
   "cell_type": "code",
   "execution_count": 31,
   "id": "f6fc0336",
   "metadata": {},
   "outputs": [],
   "source": [
    "def mean_squared_error(y_pred, y_real):\n",
    "    N = y_pred.shape[0]\n",
    "\n",
    "    error = np.sum((y_pred - y_real)**2)/(2*N)\n",
    "\n",
    "    return error\n"
   ]
  },
  {
   "cell_type": "code",
   "execution_count": 32,
   "id": "93225f4a",
   "metadata": {},
   "outputs": [],
   "source": [
    "def r2_score(Y_test, Y_pred):\n",
    "    data_var = np.sum((Y_test-np.mean(Y_test,axis=0))**2)\n",
    "    model_var = np.sum((Y_pred-Y_test)**2)\n",
    "    expl_var = data_var-model_var\n",
    "    return float(expl_var/data_var)"
   ]
  },
  {
   "cell_type": "markdown",
   "id": "193f5b4c",
   "metadata": {},
   "source": [
    "# Multiple Linear Regression"
   ]
  },
  {
   "cell_type": "code",
   "execution_count": 33,
   "id": "9ccaabcb",
   "metadata": {},
   "outputs": [],
   "source": [
    "model = mlr.Multiple_Linear_Regression()\n",
    "model.fit(x_train,y_train)"
   ]
  },
  {
   "cell_type": "code",
   "execution_count": 34,
   "id": "5df71f3f",
   "metadata": {},
   "outputs": [],
   "source": [
    "# Test for trained\n",
    "training_data_prediction = model.predict(x_train)\n",
    "train_r_squared = r2_score(y_train,training_data_prediction) #r_squared error\n",
    "train_mse = mean_squared_error(y_train,training_data_prediction) #Mean squared error\n",
    "train_rmse = np.sqrt(mean_squared_error(y_train,training_data_prediction)) #Root mean square error\n",
    "\n",
    "# Test for evaluation\n",
    "training_data_prediction = model.predict(x_test)\n",
    "test_r_squared = r2_score(y_test,training_data_prediction)\n",
    "test_mse = mean_squared_error(y_test,training_data_prediction)\n",
    "test_rmse = np.sqrt(mean_squared_error(y_test,training_data_prediction))"
   ]
  },
  {
   "cell_type": "code",
   "execution_count": 35,
   "id": "b37fd5db",
   "metadata": {},
   "outputs": [
    {
     "name": "stdout",
     "output_type": "stream",
     "text": [
      "╒═══════╤═══════════════════╤═════════════════════╤══════════════════════════╕\n",
      "│       │   R Squared Error │   Mean Square Error │   Root Mean Square Error │\n",
      "╞═══════╪═══════════════════╪═════════════════════╪══════════════════════════╡\n",
      "│ Train │          0.912251 │           0.0699519 │                 0.264484 │\n",
      "├───────┼───────────────────┼─────────────────────┼──────────────────────────┤\n",
      "│ Test  │          0.715207 │           0.220141  │                 0.469192 │\n",
      "╘═══════╧═══════════════════╧═════════════════════╧══════════════════════════╛\n"
     ]
    }
   ],
   "source": [
    "training_data_prediction = model.predict(x_test)\n",
    "r_squared = r2_score(y_test,training_data_prediction)\n",
    "r_squared\n",
    "\n",
    "errors = [[\"Train\",train_r_squared,train_mse,train_rmse],\n",
    "         [\"Test\",test_r_squared,test_mse,test_rmse]]\n",
    "errors\n",
    "#define header names\n",
    "col_names = [\"\", \"R Squared Error\", \"Mean Square Error\", \"Root Mean Square Error\"]\n",
    "  \n",
    "#display table\n",
    "print(tabulate(errors, headers=col_names, tablefmt=\"fancy_grid\"))"
   ]
  },
  {
   "cell_type": "markdown",
   "id": "85127020",
   "metadata": {},
   "source": [
    "# Ridge Regression "
   ]
  },
  {
   "cell_type": "code",
   "execution_count": 36,
   "id": "f950736b",
   "metadata": {},
   "outputs": [],
   "source": [
    "ridge_obj = rr.RidgeRegression(iterations = 1000, learning_rate = 0.01, l2_penality = 80)\n",
    "ridge_obj.fit(x_train,y_train)\n",
    "predictions = ridge_obj.predict(x_train)\n",
    "\n",
    "train_r_squared = r2_score(y_train,predictions) #r_squared error\n",
    "train_mse = mean_squared_error(y_train,predictions) #Mean squared error\n",
    "train_rmse = np.sqrt(mean_squared_error(y_train,predictions)) #Root mean square error\n",
    "\n",
    "predictions = ridge_obj.predict(x_test)\n",
    "test_r_squared = r2_score(y_test,predictions)\n",
    "test_mse = mean_squared_error(y_test,predictions)\n",
    "test_rmse = np.sqrt(mean_squared_error(y_test,predictions))"
   ]
  },
  {
   "cell_type": "code",
   "execution_count": 37,
   "id": "7665e88c",
   "metadata": {},
   "outputs": [
    {
     "name": "stdout",
     "output_type": "stream",
     "text": [
      "╒═══════╤═══════════════════╤═════════════════════╤══════════════════════════╕\n",
      "│       │   R Squared Error │   Mean Square Error │   Root Mean Square Error │\n",
      "╞═══════╪═══════════════════╪═════════════════════╪══════════════════════════╡\n",
      "│ Train │          0.783578 │            0.172527 │                 0.415363 │\n",
      "├───────┼───────────────────┼─────────────────────┼──────────────────────────┤\n",
      "│ Test  │          0.70475  │            0.228224 │                 0.477728 │\n",
      "╘═══════╧═══════════════════╧═════════════════════╧══════════════════════════╛\n"
     ]
    }
   ],
   "source": [
    "errors = [[\"Train\",train_r_squared,train_mse,train_rmse],\n",
    "         [\"Test\",test_r_squared,test_mse,test_rmse]]\n",
    "errors\n",
    "#define header names\n",
    "col_names = [\"\", \"R Squared Error\", \"Mean Square Error\", \"Root Mean Square Error\"]\n",
    "  \n",
    "#display table\n",
    "print(tabulate(errors, headers=col_names, tablefmt=\"fancy_grid\"))"
   ]
  },
  {
   "cell_type": "markdown",
   "id": "e929fd1d",
   "metadata": {},
   "source": [
    "# Support Vector Regressor "
   ]
  },
  {
   "cell_type": "code",
   "execution_count": 38,
   "id": "87667dd8",
   "metadata": {},
   "outputs": [
    {
     "name": "stdout",
     "output_type": "stream",
     "text": [
      "1/1000: loss: 3.214846134185791\n",
      "21/1000: loss: 2.7405691146850586\n",
      "41/1000: loss: 2.3029332160949707\n",
      "61/1000: loss: 1.9427905082702637\n",
      "81/1000: loss: 1.6871354579925537\n",
      "101/1000: loss: 1.5005556344985962\n",
      "121/1000: loss: 1.356369972229004\n",
      "141/1000: loss: 1.2467849254608154\n",
      "161/1000: loss: 1.1571013927459717\n",
      "181/1000: loss: 1.0813013315200806\n",
      "201/1000: loss: 1.0197153091430664\n",
      "221/1000: loss: 0.9667400121688843\n",
      "241/1000: loss: 0.9214798212051392\n",
      "261/1000: loss: 0.8816370964050293\n",
      "281/1000: loss: 0.8450714349746704\n",
      "301/1000: loss: 0.8128432035446167\n",
      "321/1000: loss: 0.7840842008590698\n",
      "341/1000: loss: 0.7587530016899109\n",
      "361/1000: loss: 0.7363146543502808\n",
      "381/1000: loss: 0.7171507477760315\n",
      "401/1000: loss: 0.7003837823867798\n",
      "421/1000: loss: 0.6859355568885803\n",
      "441/1000: loss: 0.673053503036499\n",
      "461/1000: loss: 0.6614402532577515\n",
      "481/1000: loss: 0.6510600447654724\n",
      "501/1000: loss: 0.6418997645378113\n",
      "521/1000: loss: 0.6335193514823914\n",
      "541/1000: loss: 0.6259703636169434\n",
      "561/1000: loss: 0.6192762851715088\n",
      "581/1000: loss: 0.6133070588111877\n",
      "601/1000: loss: 0.6081035137176514\n",
      "621/1000: loss: 0.6034519672393799\n",
      "641/1000: loss: 0.5992902517318726\n",
      "661/1000: loss: 0.5955148935317993\n",
      "681/1000: loss: 0.5921114683151245\n",
      "701/1000: loss: 0.5890714526176453\n",
      "721/1000: loss: 0.5863581299781799\n",
      "741/1000: loss: 0.5838903188705444\n",
      "761/1000: loss: 0.5816305875778198\n",
      "781/1000: loss: 0.5796080827713013\n",
      "801/1000: loss: 0.5777795910835266\n",
      "821/1000: loss: 0.5760772228240967\n",
      "841/1000: loss: 0.5744715929031372\n",
      "861/1000: loss: 0.5729408860206604\n",
      "881/1000: loss: 0.5715808868408203\n",
      "901/1000: loss: 0.5703622102737427\n",
      "921/1000: loss: 0.5692078471183777\n",
      "941/1000: loss: 0.5681306719779968\n",
      "961/1000: loss: 0.5671043395996094\n",
      "981/1000: loss: 0.56611567735672\n"
     ]
    }
   ],
   "source": [
    "svr = svr.SVR()\n",
    "svr.fit(x_train,y_train)\n",
    "predicted = svr.predict(x_train)"
   ]
  },
  {
   "cell_type": "code",
   "execution_count": 39,
   "id": "fbf2035c",
   "metadata": {},
   "outputs": [],
   "source": [
    "predicted = predicted.flatten()\n",
    "train_r_squared = r2_score(y_train,predicted) #r_squared error\n",
    "train_mse = mean_squared_error(y_train,predicted) #Mean squared error\n",
    "train_rmse = np.sqrt(mean_squared_error(y_train,predicted)) #Root mean square error\n",
    "\n",
    "predictions = svr.predict(x_test)\n",
    "predictions = predictions.flatten()\n",
    "test_r_squared = r2_score(y_test,predictions)\n",
    "test_mse = mean_squared_error(y_test,predictions)\n",
    "test_rmse = np.sqrt(mean_squared_error(y_test,predictions))"
   ]
  },
  {
   "cell_type": "code",
   "execution_count": 40,
   "id": "18a64239",
   "metadata": {},
   "outputs": [
    {
     "name": "stdout",
     "output_type": "stream",
     "text": [
      "╒═══════╤═══════════════════╤═════════════════════╤══════════════════════════╕\n",
      "│       │   R Squared Error │   Mean Square Error │   Root Mean Square Error │\n",
      "╞═══════╪═══════════════════╪═════════════════════╪══════════════════════════╡\n",
      "│ Train │          0.597831 │            0.320601 │                 0.566217 │\n",
      "├───────┼───────────────────┼─────────────────────┼──────────────────────────┤\n",
      "│ Test  │          0.652158 │            0.268877 │                 0.518534 │\n",
      "╘═══════╧═══════════════════╧═════════════════════╧══════════════════════════╛\n"
     ]
    }
   ],
   "source": [
    "errors = [[\"Train\",train_r_squared,train_mse,train_rmse],\n",
    "         [\"Test\",test_r_squared,test_mse,test_rmse]]\n",
    "errors\n",
    "#define header names\n",
    "col_names = [\"\", \"R Squared Error\", \"Mean Square Error\", \"Root Mean Square Error\"]\n",
    "  \n",
    "#display table\n",
    "print(tabulate(errors, headers=col_names, tablefmt=\"fancy_grid\"))"
   ]
  },
  {
   "cell_type": "markdown",
   "id": "e3423c02",
   "metadata": {},
   "source": [
    "#  Desicion Tree Regressor"
   ]
  },
  {
   "cell_type": "code",
   "execution_count": 41,
   "id": "08a013fd",
   "metadata": {},
   "outputs": [],
   "source": [
    "regressor = dt.DecisionTreeRegressor(min_samples_split=3, max_depth=3)\n",
    "y_trainn = y_train.iloc[:].values.reshape(-1,1)\n",
    "regressor.fit(x_train,y_trainn)\n",
    "#regressor.print_tree()"
   ]
  },
  {
   "cell_type": "code",
   "execution_count": 42,
   "id": "e4b80f68",
   "metadata": {},
   "outputs": [],
   "source": [
    "x_trainn = x_train.iloc[:].values\n",
    "y_trainn = y_train.iloc[:].values.reshape(-1,1)\n",
    "Y_pred = regressor.predict(x_trainn) "
   ]
  },
  {
   "cell_type": "code",
   "execution_count": 43,
   "id": "303ee391",
   "metadata": {},
   "outputs": [],
   "source": [
    "train_r_squared = r2_score(y_train,Y_pred) #r_squared error\n",
    "train_mse = mean_squared_error(y_train,Y_pred) #Mean squared error\n",
    "train_rmse = np.sqrt(mean_squared_error(y_train,Y_pred)) #Root mean square error\n",
    "\n",
    "x_testt = x_test.iloc[:].values\n",
    "y_testt = y_test.iloc[:].values.reshape(-1,1)\n",
    "Y_pred = regressor.predict(x_testt) \n",
    "\n",
    "test_r_squared = r2_score(y_test,Y_pred)\n",
    "test_mse = mean_squared_error(y_test,Y_pred)\n",
    "test_rmse = np.sqrt(mean_squared_error(y_test,Y_pred))"
   ]
  },
  {
   "cell_type": "code",
   "execution_count": 44,
   "id": "a0f05f6d",
   "metadata": {},
   "outputs": [
    {
     "name": "stdout",
     "output_type": "stream",
     "text": [
      "╒═══════╤═══════════════════╤═════════════════════╤══════════════════════════╕\n",
      "│       │   R Squared Error │   Mean Square Error │   Root Mean Square Error │\n",
      "╞═══════╪═══════════════════╪═════════════════════╪══════════════════════════╡\n",
      "│ Train │          0.966548 │           0.0266669 │                  0.1633  │\n",
      "├───────┼───────────────────┼─────────────────────┼──────────────────────────┤\n",
      "│ Test  │          0.907588 │           0.0714333 │                  0.26727 │\n",
      "╘═══════╧═══════════════════╧═════════════════════╧══════════════════════════╛\n"
     ]
    }
   ],
   "source": [
    "errors = [[\"Train\",train_r_squared,train_mse,train_rmse],\n",
    "         [\"Test\",test_r_squared,test_mse,test_rmse]]\n",
    "errors\n",
    "#define header names\n",
    "col_names = [\"\", \"R Squared Error\", \"Mean Square Error\", \"Root Mean Square Error\"]\n",
    "  \n",
    "#display table\n",
    "print(tabulate(errors, headers=col_names, tablefmt=\"fancy_grid\"))"
   ]
  },
  {
   "cell_type": "code",
   "execution_count": 45,
   "id": "ce752363",
   "metadata": {},
   "outputs": [
    {
     "data": {
      "image/png": "[encoded data removed]",
      "text/plain": [
       "<Figure size 432x288 with 1 Axes>"
      ]
     },
     "metadata": {
      "needs_background": "light"
     },
     "output_type": "display_data"
    }
   ],
   "source": [
    "plt.scatter(y_test, Y_pred)\n",
    "plt.xlabel(\"Actual Price\")\n",
    "plt.ylabel(\"Predicted Price\")\n",
    "plt.title(\" Actual Prices vs Predicted Prices\")\n",
    "plt.show()"
   ]
  }
 ],
 "metadata": {
  "kernelspec": {
   "display_name": "Python 3",
   "language": "python",
   "name": "python3"
  },
  "language_info": {
   "codemirror_mode": {
    "name": "ipython",
    "version": 3
   },
   "file_extension": ".py",
   "mimetype": "text/x-python",
   "name": "python",
   "nbconvert_exporter": "python",
   "pygments_lexer": "ipython3",
   "version": "3.8.8"
  }
 },
 "nbformat": 4,
 "nbformat_minor": 5
}
